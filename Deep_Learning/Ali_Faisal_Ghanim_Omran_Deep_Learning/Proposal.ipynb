{
 "cells": [
  {
   "cell_type": "markdown",
   "id": "2ea71b5a",
   "metadata": {},
   "source": [
    "# Detect Covid-19 via Chest X-Ray\n",
    "### Using convolutional neural network (CNN)"
   ]
  },
  {
   "cell_type": "markdown",
   "id": "e3181f97",
   "metadata": {},
   "source": [
    "### Project Description"
   ]
  },
  {
   "cell_type": "markdown",
   "id": "8487a218",
   "metadata": {},
   "source": [
    "COVID-19 has caused many hospitals to be overcrowded and taken many lives worldwide. Our team used deep learning to help reduce the effects of COVID-19. We believe that deep learning would provide value in smart cities and hospitals where it can reduce the exposure of health workers to the virus and give faster and better detection results. Our idea is to use AI and deep learning to have zero exposure to patients testing for COVID-19, which is achieved by introducing an X-Ray room that has a robot that will scan patients and provide immediate results and further instructions to the patient. Also, in the future we can train the model to predict other diseases. "
   ]
  },
  {
   "cell_type": "markdown",
   "id": "b30bb203",
   "metadata": {},
   "source": [
    "### Data Description"
   ]
  },
  {
   "cell_type": "markdown",
   "id": "fc0af30a",
   "metadata": {},
   "source": [
    "The dataset that will be used in this project is from Kaggle. The dataset has 30,000 data points and 4 features.\n",
    "\n",
    "The features are:\n",
    " - ID\n",
    " - Data Source\n",
    " - File Path\n",
    " - Labels"
   ]
  },
  {
   "cell_type": "markdown",
   "id": "7b75955f",
   "metadata": {},
   "source": [
    "### Tools"
   ]
  },
  {
   "cell_type": "markdown",
   "id": "bb8f3aac",
   "metadata": {},
   "source": [
    "We plan to use the following Tools*:\n",
    "\n",
    "- Pandas: Data Cleaning and manipulation\n",
    "- Numpy: Mathematical operations \n",
    "- Tensorflow: Deep Learning \n",
    "- Seaborn: Data Visualization \n",
    "- Sklearn: Testing the results\n",
    "\n",
    "\n",
    "*The tools might change in the future depending on the requirements of the project.\n"
   ]
  },
  {
   "cell_type": "markdown",
   "id": "0bd9daf1",
   "metadata": {},
   "source": [
    "### Minimum Viable Product"
   ]
  },
  {
   "cell_type": "markdown",
   "id": "e07d4466",
   "metadata": {},
   "source": [
    "The minimum viable product of this project is to build a CNN model that detects COVID-19 cases. After that, we hope that our model can reduce or limit the exposure of healthcare workers to the virus by providing an automated X-Ray room with our model embeded into it. The goal is to deploy this model alongside many different models to aid healthcare workers and provide quick diagnosis of many different diseases"
   ]
  },
  {
   "cell_type": "markdown",
   "id": "7b23f8b9",
   "metadata": {},
   "source": [
    "\n",
    "Prepared by: \n",
    "\n",
    "Ali Altamimi\n",
    "\n",
    "Faisal Alasgah\n",
    "\n",
    "Ghanim Alghanim\n",
    "\n",
    "Omran Fallatah\n"
   ]
  }
 ],
 "metadata": {
  "kernelspec": {
   "display_name": "Python 3",
   "language": "python",
   "name": "python3"
  },
  "language_info": {
   "codemirror_mode": {
    "name": "ipython",
    "version": 3
   },
   "file_extension": ".py",
   "mimetype": "text/x-python",
   "name": "python",
   "nbconvert_exporter": "python",
   "pygments_lexer": "ipython3",
   "version": "3.8.8"
  }
 },
 "nbformat": 4,
 "nbformat_minor": 5
}
